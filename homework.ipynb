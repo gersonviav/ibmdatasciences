{
 "cells": [
  {
   "cell_type": "markdown",
   "id": "f35ff8dd",
   "metadata": {},
   "source": [
    "# homework"
   ]
  },
  {
   "cell_type": "markdown",
   "id": "b02a7aa3",
   "metadata": {},
   "source": [
    "## Introduction to using jupyter\n",
    "In this document, we will delve into the use of Jupyter both at the code level and at the markwdown writing level."
   ]
  },
  {
   "cell_type": "markdown",
   "id": "a3a56b4b",
   "metadata": {},
   "source": [
    "Data science is a field that utilizes various programming languages to analyze and interpret complex data. Some of the most popular languages used in data science are:\n",
    "\n",
    "1. Python\n",
    "2. R\n",
    "3. SQL\n",
    "4. Julia\n",
    "5. Scala\n",
    "6. Java\n",
    "7. MATLAB\n"
   ]
  },
  {
   "cell_type": "markdown",
   "id": "f6d6b4d4",
   "metadata": {},
   "source": [
    "Data science relies on a variety of libraries to perform tasks ranging from data manipulation to machine learning. Some of the most widely used data science libraries are:\n",
    "\n",
    "1. NumPy\n",
    "2. Pandas\n",
    "3. Matplotlib\n",
    "4. Seaborn\n",
    "5. Scikit-learn\n",
    "6. TensorFlow\n",
    "7. Keras\n",
    "8. PyTorch\n",
    "9. Statsmodels\n",
    "10. NLTK\n"
   ]
  },
  {
   "cell_type": "markdown",
   "id": "3008d60a",
   "metadata": {},
   "source": [
    "Data Science involves a range of tools for different stages of the data analysis process. Here is a table of some commonly used Data Science tools:\n",
    "\n",
    "| Tool           | Purpose                       |\n",
    "|----------------|-------------------------------|\n",
    "| Jupyter        | Interactive coding and notebooks |\n",
    "| RStudio        | R programming environment     |\n",
    "| Apache Spark   | Big data processing           |\n",
    "| Hadoop         | Distributed storage and processing |\n",
    "| Tableau        | Data visualization            |\n",
    "| Power BI       | Business analytics            |\n",
    "| SAS            | Advanced analytics            |\n",
    "| KNIME          | Data analytics platform       |\n",
    "| RapidMiner     | Data science platform         |\n",
    "| Excel          | Data manipulation and analysis |\n"
   ]
  },
  {
   "cell_type": "markdown",
   "id": "013a7b9e",
   "metadata": {},
   "source": [
    "Arithmetic expressions are fundamental in mathematics and programming, allowing us to perform calculations. Here are some examples of basic arithmetic expressions:\n",
    "\n",
    "- Addition: `5 + 3`\n",
    "- Subtraction: `10 - 4`\n",
    "- Multiplication: `6 * 7`\n",
    "- Division: `20 / 5`\n",
    "- Modulus: `15 % 4`\n",
    "- Exponentiation: `2 ** 3`\n"
   ]
  },
  {
   "cell_type": "code",
   "execution_count": 2,
   "id": "5baa0eae",
   "metadata": {},
   "outputs": [
    {
     "data": {
      "text/plain": [
       "5"
      ]
     },
     "execution_count": 2,
     "metadata": {},
     "output_type": "execute_result"
    }
   ],
   "source": [
    "2+3"
   ]
  },
  {
   "cell_type": "code",
   "execution_count": 3,
   "id": "8af1cce1",
   "metadata": {},
   "outputs": [
    {
     "data": {
      "text/plain": [
       "8"
      ]
     },
     "execution_count": 3,
     "metadata": {},
     "output_type": "execute_result"
    }
   ],
   "source": [
    "2*4"
   ]
  },
  {
   "cell_type": "code",
   "execution_count": 4,
   "id": "2040cb9d",
   "metadata": {},
   "outputs": [
    {
     "data": {
      "text/plain": [
       "60.0"
      ]
     },
     "execution_count": 4,
     "metadata": {},
     "output_type": "execute_result"
    }
   ],
   "source": [
    "3600/60"
   ]
  },
  {
   "cell_type": "markdown",
   "id": "022bcc1a",
   "metadata": {},
   "source": [
    "Data science encompasses a wide range of techniques and tools to extract insights from data. Here are some key areas in the field of data science:\n",
    "\n",
    "- Data Collection\n",
    "- Data Cleaning\n",
    "- Data Exploration\n",
    "- Data Visualization\n",
    "- Statistical Analysis\n",
    "- Machine Learning\n",
    "- Deep Learning\n",
    "- Natural Language Processing\n",
    "- Big Data Processing\n",
    "- Model Deployment\n"
   ]
  },
  {
   "cell_type": "markdown",
   "id": "873a92f2",
   "metadata": {},
   "source": [
    "**Author:** Gerson Jordan Villugas Avellaneda\n"
   ]
  },
  {
   "cell_type": "code",
   "execution_count": null,
   "id": "38f5b038",
   "metadata": {},
   "outputs": [],
   "source": []
  }
 ],
 "metadata": {
  "kernelspec": {
   "display_name": "Python 3 (ipykernel)",
   "language": "python",
   "name": "python3"
  },
  "language_info": {
   "codemirror_mode": {
    "name": "ipython",
    "version": 3
   },
   "file_extension": ".py",
   "mimetype": "text/x-python",
   "name": "python",
   "nbconvert_exporter": "python",
   "pygments_lexer": "ipython3",
   "version": "3.11.5"
  }
 },
 "nbformat": 4,
 "nbformat_minor": 5
}
